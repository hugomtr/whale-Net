{
 "cells": [
  {
   "cell_type": "code",
   "execution_count": null,
   "metadata": {},
   "outputs": [],
   "source": [
    "import sys\n",
    "import cv2\n",
    "import numpy as np\n",
    "\n",
    "# Read the images to be aligned\n",
    "path_im1 = \"wC_11.jpg\"  \n",
    "path_im2 = \"wC_9.jpg\" \n",
    "im1 = cv2.imread(path_im1,cv2.IMREAD_COLOR)\n",
    "im1 = im1[:,:,::-1]\n",
    "\n",
    "im2 = cv2.imread(path_im2,cv2.IMREAD_COLOR)\n",
    "im2 = im2[:,:,::-1]\n",
    "\n",
    "# Convert images to grayscale\n",
    "im1_gray = cv2.cvtColor(im1,cv2.COLOR_BGR2GRAY)\n",
    "im2_gray = cv2.cvtColor(im2,cv2.COLOR_BGR2GRAY)\n",
    "\n",
    "# Find size of image1\n",
    "sz = im1.shape\n",
    "\n",
    "# Define the motion model\n",
    "warp_mode = cv2.MOTION_TRANSLATION\n",
    "\n",
    "# Define 2x3 or 3x3 matrices and initialize the matrix to identity\n",
    "if warp_mode == cv2.MOTION_HOMOGRAPHY :\n",
    "  warp_matrix = np.eye(3, 3, dtype=np.float32)\n",
    "else :\n",
    "  warp_matrix = np.eye(2, 3, dtype=np.float32)\n",
    "\n",
    "# Specify the number of iterations.\n",
    "number_of_iterations = 5000\n",
    "\n",
    "# Specify the threshold of the increment\n",
    "# in the correlation coefficient between two iterations\n",
    "termination_eps = 1e-10\n",
    "\n",
    "# Define termination criteria\n",
    "criteria = (cv2.TERM_CRITERIA_EPS | cv2.TERM_CRITERIA_COUNT, number_of_iterations,  termination_eps)\n",
    "# Run the ECC algorithm. The results are stored in warp_matrix.\n",
    "(cc, warp_matrix) = cv2.findTransformECC(im1_gray,im2_gray,warp_matrix, warp_mode, criteria)\n",
    "\n",
    "if warp_mode == cv2.MOTION_HOMOGRAPHY :\n",
    "  # Use warpPerspective for Homography\n",
    "  im2_aligned = cv2.warpPerspective(im2, warp_matrix, (sz[1],sz[0]), flags=cv2.INTER_LINEAR + cv2.WARP_INVERSE_MAP)\n",
    "else :\n",
    "  # Use warpAffine for Translation, Euclidean and Affine\n",
    "  im2_aligned = cv2.warpAffine(im2, warp_matrix, (sz[1],sz[0]), flags=cv2.INTER_LINEAR + cv2.WARP_INVERSE_MAP)\n",
    "\n",
    "# Show final results\n",
    "cv2.imwrite(\"im2_aligned.jpg\", im2_aligned)\n",
    "plt.imshow(im2_aligned)\n",
    "cv2.waitKey(0)\n"
   ]
  }
 ],
 "metadata": {
  "interpreter": {
   "hash": "916dbcbb3f70747c44a77c7bcd40155683ae19c65e1c03b4aa3499c5328201f1"
  },
  "kernelspec": {
   "display_name": "Python 3.8.10 64-bit",
   "language": "python",
   "name": "python3"
  },
  "language_info": {
   "codemirror_mode": {
    "name": "ipython",
    "version": 3
   },
   "file_extension": ".py",
   "mimetype": "text/x-python",
   "name": "python",
   "nbconvert_exporter": "python",
   "pygments_lexer": "ipython3",
   "version": "3.8.10"
  },
  "orig_nbformat": 4
 },
 "nbformat": 4,
 "nbformat_minor": 2
}
